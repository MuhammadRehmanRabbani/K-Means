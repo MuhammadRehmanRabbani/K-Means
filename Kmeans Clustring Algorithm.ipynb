{
 "cells": [
  {
   "cell_type": "markdown",
   "metadata": {},
   "source": [
    "## Kmeans Clustring Algorithm"
   ]
  },
  {
   "cell_type": "code",
   "execution_count": 118,
   "metadata": {},
   "outputs": [],
   "source": [
    "import numpy as np\n",
    "import pandas as pd\n",
    "import matplotlib.pyplot as plt\n",
    "import seaborn as sns"
   ]
  },
  {
   "cell_type": "code",
   "execution_count": 96,
   "metadata": {},
   "outputs": [],
   "source": [
    "class Kmeans:\n",
    "\n",
    "    # input: number od clusters and length of array\n",
    "    def __init__(self, clusters, n):\n",
    "\n",
    "        self.x = {i: [] for i in range(clusters)}\n",
    "\n",
    "        self.centroid = np.random.randint(low=0, high=n, size=(clusters, 2))\n",
    "\n",
    "        self.clusters = clusters\n",
    "\n",
    "    # predict implementaion function\n",
    "    def predict(self, x):\n",
    "\n",
    "        d_index = []\n",
    "\n",
    "        for i in range(len(x)):\n",
    "\n",
    "            output = map(lambda y: np.linalg.norm(y - x[i]), self.centroid)\n",
    "\n",
    "            distance = list(output)\n",
    "\n",
    "            d_index.append(distance.index(min(distance)))\n",
    "\n",
    "        return d_index\n",
    "\n",
    "    # Fit implementaion function\n",
    "    def fit(self, x):\n",
    "\n",
    "        new = True\n",
    "\n",
    "        n = len(x)\n",
    "\n",
    "        while True:\n",
    "\n",
    "            for i in range(n):\n",
    "\n",
    "                output = map(lambda y: np.linalg.norm(y - x[i]), self.centroid)\n",
    "\n",
    "                distance = list(output)\n",
    "\n",
    "                self.x[distance.index(min(distance))].append(x[i])\n",
    "\n",
    "            if new:\n",
    "\n",
    "                old_centroid = self.centroid\n",
    "\n",
    "                for i in range(len(self.centroid)):\n",
    "\n",
    "                    self.centroid[i] = np.average(self.x[i], axis=0)\n",
    "\n",
    "                new = False\n",
    "\n",
    "                self.x = {i: [] for i in range(self.clusters)}\n",
    "\n",
    "                continue\n",
    "\n",
    "            # absolute difference\n",
    "            a_diff = np.absolute(old_centroid - self.centroid)\n",
    "\n",
    "            # distance average\n",
    "            d_average = np.average(a_diff, axis=0)\n",
    "\n",
    "            if d_average[0] < 1e-7 and d_average[1] < 1e-7:\n",
    "\n",
    "                break\n",
    "\n",
    "            else:\n",
    "\n",
    "                old_centroid = self.centroid\n",
    "\n",
    "                for i in range(len(self.centroid)):\n",
    "\n",
    "                    self.centroid[i] = np.average(self.x[i], axis=0)\n",
    "\n",
    "                self.x = {i: [] for i in range(self.clusters)}\n",
    "\n",
    "                continue\n",
    "\n",
    "    # Transform implementaion function\n",
    "    def transform(self, x):\n",
    "\n",
    "        distance = []\n",
    "\n",
    "        for i in range(len(x)):\n",
    "\n",
    "            output = map(lambda y: np.linalg.norm(y - x[i]), self.centroid)\n",
    "\n",
    "            dis = list(output)\n",
    "\n",
    "            distance.append(dis)\n",
    "\n",
    "        return distance\n",
    "\n",
    "\n",
    "    # Fit and predict \n",
    "    def fit_predict(self, x):\n",
    "\n",
    "        self.fit(x)\n",
    "\n",
    "        return self.predict(x)\n",
    "\n",
    "    # Fit and transform\n",
    "    def fit_transform(self, x):\n",
    "\n",
    "        self.fit(x)\n",
    "\n",
    "        return self.transform(x)\n",
    "\n",
    "if __name__ == '__main__':\n",
    "\n",
    "    #giving hard-coded array\n",
    "    a = np.array([[1, 2], [1, 4], [1, 0], [10, 2], [10, 4], [10, 0]])\n",
    "\n",
    "    kmeans = Kmeans(clusters=2, n=len(a))"
   ]
  },
  {
   "cell_type": "code",
   "execution_count": 125,
   "metadata": {},
   "outputs": [
    {
     "name": "stdout",
     "output_type": "stream",
     "text": [
      "{0: [array([1, 2]), array([1, 4]), array([1, 0])], 1: [array([10,  2]), array([10,  4]), array([10,  0])]}\n"
     ]
    }
   ],
   "source": [
    "print(kmeans.x)"
   ]
  },
  {
   "cell_type": "code",
   "execution_count": 97,
   "metadata": {},
   "outputs": [
    {
     "name": "stdout",
     "output_type": "stream",
     "text": [
      "None\n"
     ]
    }
   ],
   "source": [
    "print(kmeans.fit(a))"
   ]
  },
  {
   "cell_type": "code",
   "execution_count": 102,
   "metadata": {},
   "outputs": [
    {
     "name": "stdout",
     "output_type": "stream",
     "text": [
      "[[0.0, 8.0], [2.0, 8.246211251235321], [2.0, 8.246211251235321], [9.0, 1.0], [9.219544457292887, 2.23606797749979], [9.219544457292887, 2.23606797749979]]\n"
     ]
    }
   ],
   "source": [
    "print(kmeans.fit_transform(a))"
   ]
  },
  {
   "cell_type": "code",
   "execution_count": 103,
   "metadata": {},
   "outputs": [],
   "source": [
    "predictions = kmeans.predict(a)"
   ]
  },
  {
   "cell_type": "code",
   "execution_count": 104,
   "metadata": {},
   "outputs": [
    {
     "name": "stdout",
     "output_type": "stream",
     "text": [
      "[0, 0, 0, 1, 1, 1]\n"
     ]
    }
   ],
   "source": [
    "print(predictions)"
   ]
  },
  {
   "cell_type": "code",
   "execution_count": 107,
   "metadata": {},
   "outputs": [],
   "source": [
    "table = pd.DataFrame(a)\n",
    "table[\"tag\"] = predictions\n",
    "table.rename(columns={0: \"x\", 1: \"y\"}, inplace=True)"
   ]
  },
  {
   "cell_type": "code",
   "execution_count": 109,
   "metadata": {},
   "outputs": [
    {
     "name": "stdout",
     "output_type": "stream",
     "text": [
      "    x  y  tag\n",
      "0   1  2    0\n",
      "1   1  4    0\n",
      "2   1  0    0\n",
      "3  10  2    1\n",
      "4  10  4    1\n",
      "5  10  0    1\n"
     ]
    }
   ],
   "source": [
    "print(table)"
   ]
  },
  {
   "cell_type": "code",
   "execution_count": 116,
   "metadata": {},
   "outputs": [
    {
     "data": {
      "image/png": "[encoded data removed]",
      "text/plain": [
       "<Figure size 432x288 with 1 Axes>"
      ]
     },
     "metadata": {
      "needs_background": "light"
     },
     "output_type": "display_data"
    }
   ],
   "source": [
    "table.plot(kind='scatter',x='x',y='y',color='red')\n",
    "plt.show()"
   ]
  },
  {
   "cell_type": "code",
   "execution_count": 120,
   "metadata": {},
   "outputs": [
    {
     "data": {
      "image/png": "[encoded data removed]",
      "text/plain": [
       "<Figure size 402.375x360 with 1 Axes>"
      ]
     },
     "metadata": {
      "needs_background": "light"
     },
     "output_type": "display_data"
    }
   ],
   "source": [
    "plot = sns.lmplot(data=table, x='x', y='y', hue='tag', \n",
    "                   fit_reg=False, legend=True, legend_out=True)"
   ]
  },
  {
   "cell_type": "code",
   "execution_count": null,
   "metadata": {},
   "outputs": [],
   "source": []
  }
 ],
 "metadata": {
  "kernelspec": {
   "display_name": "Python 3",
   "language": "python",
   "name": "python3"
  },
  "language_info": {
   "codemirror_mode": {
    "name": "ipython",
    "version": 3
   },
   "file_extension": ".py",
   "mimetype": "text/x-python",
   "name": "python",
   "nbconvert_exporter": "python",
   "pygments_lexer": "ipython3",
   "version": "3.7.0"
  }
 },
 "nbformat": 4,
 "nbformat_minor": 2
}
